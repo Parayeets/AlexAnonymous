{
 "cells": [
  {
   "cell_type": "code",
   "execution_count": 1,
   "id": "7d157b5d-8405-4d9c-ac1e-bff7aaccd393",
   "metadata": {},
   "outputs": [],
   "source": [
    "from openai import OpenAI\n",
    "\n",
    "# Setting up API key\n",
    "fHandle = open(\"api_key.txt\", \"r\")\n",
    "api_key = fHandle.readline().strip()\n",
    "fHandle.close()\n",
    "client = OpenAI(api_key=api_key)"
   ]
  },
  {
   "cell_type": "code",
   "execution_count": 2,
   "id": "89e4d90b-c718-45fd-bfe1-b58c785f0708",
   "metadata": {},
   "outputs": [
    {
     "data": {
      "text/plain": [
       "FileObject(id='file-mmOazbsxxBIkDIEeLIM2COLC', bytes=101060, created_at=1705803398, filename='data.jsonl', object='file', purpose='fine-tune', status='processed', status_details=None)"
      ]
     },
     "execution_count": 2,
     "metadata": {},
     "output_type": "execute_result"
    }
   ],
   "source": [
    "# Upload training file\n",
    "client.files.create(\n",
    "  file=open(\"training_data/data.jsonl\", \"rb\"),\n",
    "  purpose=\"fine-tune\"\n",
    ")"
   ]
  },
  {
   "cell_type": "code",
   "execution_count": 3,
   "id": "72710603-f8c9-4b98-9c25-7f7632e1a026",
   "metadata": {},
   "outputs": [
    {
     "data": {
      "text/plain": [
       "FineTuningJob(id='ftjob-tSDi4LenGfYsxpOPiqmRtobk', created_at=1705803406, error=None, fine_tuned_model=None, finished_at=None, hyperparameters=Hyperparameters(n_epochs='auto', batch_size='auto', learning_rate_multiplier='auto'), model='gpt-3.5-turbo-1106', object='fine_tuning.job', organization_id='org-vYdkFS4DRIzdGKA1FCTnl0HE', result_files=[], status='validating_files', trained_tokens=None, training_file='file-mmOazbsxxBIkDIEeLIM2COLC', validation_file=None)"
      ]
     },
     "execution_count": 3,
     "metadata": {},
     "output_type": "execute_result"
    }
   ],
   "source": [
    "# Create fine tune model\n",
    "client.fine_tuning.jobs.create(\n",
    "  training_file=\"file-mmOazbsxxBIkDIEeLIM2COLC\", \n",
    "  model=\"gpt-3.5-turbo-1106\"\n",
    ")"
   ]
  },
  {
   "cell_type": "code",
   "execution_count": null,
   "id": "0b1289b6-9eff-4d5d-96d3-685a4300619e",
   "metadata": {},
   "outputs": [],
   "source": []
  }
 ],
 "metadata": {
  "kernelspec": {
   "display_name": "nwhackspy",
   "language": "python",
   "name": "nwhackspy"
  },
  "language_info": {
   "codemirror_mode": {
    "name": "ipython",
    "version": 3
   },
   "file_extension": ".py",
   "mimetype": "text/x-python",
   "name": "python",
   "nbconvert_exporter": "python",
   "pygments_lexer": "ipython3",
   "version": "3.10.9"
  }
 },
 "nbformat": 4,
 "nbformat_minor": 5
}
