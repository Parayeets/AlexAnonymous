{
 "cells": [
  {
   "cell_type": "code",
   "execution_count": 1,
   "id": "7d157b5d-8405-4d9c-ac1e-bff7aaccd393",
   "metadata": {},
   "outputs": [],
   "source": [
    "from openai import OpenAI\n",
    "\n",
    "# Setting up API key\n",
    "fHandle = open(\"api_key.txt\", \"r\")\n",
    "api_key = fHandle.readline().strip()\n",
    "fHandle.close()\n",
    "client = OpenAI(api_key=api_key)"
   ]
  },
  {
   "cell_type": "code",
   "execution_count": 4,
   "id": "89e4d90b-c718-45fd-bfe1-b58c785f0708",
   "metadata": {},
   "outputs": [
    {
     "data": {
      "text/plain": [
       "FileObject(id='file-74Qpia5zYGQZjp022r0x4oIT', bytes=101060, created_at=1705803008, filename='data.jsonl', object='file', purpose='fine-tune', status='processed', status_details=None)"
      ]
     },
     "execution_count": 4,
     "metadata": {},
     "output_type": "execute_result"
    }
   ],
   "source": [
    "# Upload training file\n",
    "client.files.create(\n",
    "  file=open(\"training_data/data.jsonl\", \"rb\"),\n",
    "  purpose=\"fine-tune\"\n",
    ")"
   ]
  },
  {
   "cell_type": "code",
   "execution_count": null,
   "id": "72710603-f8c9-4b98-9c25-7f7632e1a026",
   "metadata": {},
   "outputs": [],
   "source": [
    "# Create fine tune model\n",
    "client.fine_tuning.jobs.create(\n",
    "  training_file=\"ile-74Qpia5zYGQZjp022r0x4oIT\", \n",
    "  model=\"gpt-3.5-turbo-1106\"\n",
    ")"
   ]
  },
  {
   "cell_type": "code",
   "execution_count": null,
   "id": "0b1289b6-9eff-4d5d-96d3-685a4300619e",
   "metadata": {},
   "outputs": [],
   "source": []
  }
 ],
 "metadata": {
  "kernelspec": {
   "display_name": "nwhackspy",
   "language": "python",
   "name": "nwhackspy"
  },
  "language_info": {
   "codemirror_mode": {
    "name": "ipython",
    "version": 3
   },
   "file_extension": ".py",
   "mimetype": "text/x-python",
   "name": "python",
   "nbconvert_exporter": "python",
   "pygments_lexer": "ipython3",
   "version": "3.10.9"
  }
 },
 "nbformat": 4,
 "nbformat_minor": 5
}
